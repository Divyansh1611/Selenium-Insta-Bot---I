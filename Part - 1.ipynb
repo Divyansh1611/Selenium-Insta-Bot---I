{
 "cells": [
  {
   "cell_type": "code",
   "execution_count": 53,
   "id": "66fbb295",
   "metadata": {},
   "outputs": [],
   "source": [
    "import requests as req\n",
    "from selenium import webdriver\n",
    "from bs4 import BeautifulSoup\n",
    "from selenium.webdriver.common.by import By\n",
    "from selenium.webdriver.support.ui import WebDriverWait\n",
    "from selenium.webdriver.support import expected_conditions as EC\n",
    "from selenium.webdriver.common.keys import Keys\n",
    "import time\n",
    "from selenium.common.exceptions import *"
   ]
  },
  {
   "cell_type": "code",
   "execution_count": 54,
   "id": "fd7fab09",
   "metadata": {},
   "outputs": [],
   "source": [
    "path_chrome = r\"C:\\Users\\chaud\\Downloads\\chromedriver-win64\\chromedriver.exe\"\n",
    "insta_url = 'https://www.instagram.com/'"
   ]
  },
  {
   "cell_type": "markdown",
   "id": "de2b9371",
   "metadata": {},
   "source": [
    "## 1.1 Login to your Instagram Handle\n",
    "###  Submit with Sample Username and Password"
   ]
  },
  {
   "cell_type": "code",
   "execution_count": 55,
   "id": "38f6f76c",
   "metadata": {},
   "outputs": [],
   "source": [
    "driver = webdriver.Chrome(path_chrome)\n",
    "driver.get(insta_url)\n",
    "driver.maximize_window()"
   ]
  },
  {
   "cell_type": "code",
   "execution_count": 56,
   "id": "386ef697",
   "metadata": {},
   "outputs": [],
   "source": [
    "# username and password\n",
    "username = '************'\n",
    "password = '************'\n"
   ]
  },
  {
   "cell_type": "code",
   "execution_count": 57,
   "id": "f29ef80a",
   "metadata": {},
   "outputs": [],
   "source": [
    "\n",
    "\n",
    "def login(username, password):\n",
    "    \n",
    "    wait = WebDriverWait(driver, 10)\n",
    "    textbox = wait.until(EC.presence_of_all_elements_located((By.XPATH, '//input[@class=\"_aa4b _add6 _ac4d _ap35\"]')))\n",
    "#     textbox = driver.find_elements_by_xpath('//input[@class=\"_aa4b _add6 _ac4d _ap35\"]')\n",
    "    textbox[0].send_keys(username)\n",
    "    textbox[1].send_keys(password)\n",
    "    \n",
    "    submit_btn = driver.find_element_by_xpath('//button[@class=\" _acan _acap _acas _aj1- _ap30\"]')\n",
    "    submit_btn.click()\n",
    "    \n",
    "login(username, password)"
   ]
  },
  {
   "cell_type": "code",
   "execution_count": 58,
   "id": "cc6e35ae",
   "metadata": {},
   "outputs": [],
   "source": [
    "# if there is 'Save your login info? Notifcation '\n",
    "ntf_text = driver.find_element(By.XPATH, '//div[@class = \"_aa58\"]')\n",
    "if ntf_text.text == 'Save your login info?':\n",
    "    btn_not_now = driver.find_element(By.XPATH, '//div[@class = \"_ac8f\"]')\n",
    "    btn_not_now.click()"
   ]
  },
  {
   "cell_type": "code",
   "execution_count": 59,
   "id": "ef284c12",
   "metadata": {},
   "outputs": [],
   "source": [
    "# if pop turn on for Turn on Notification\n",
    "\n",
    "alert_obj = driver.switch_to_alert\n",
    "# alert_obj.dismiss() is not working guess it's not the pop up notfication like other websites.\n",
    "alert_options = driver.find_elements_by_class_name('_a9--')\n",
    "alert_options[1].click()"
   ]
  },
  {
   "cell_type": "markdown",
   "id": "3f64daeb",
   "metadata": {},
   "source": [
    "## 2.1 Type for “food” in search bar and print all the names of the Instagram Handles that are displayed in list after typing “food”\n",
    "\n",
    "###  Note : Make sure to avoid printing hashtags"
   ]
  },
  {
   "cell_type": "code",
   "execution_count": 63,
   "id": "5e15e112",
   "metadata": {},
   "outputs": [
    {
     "name": "stdout",
     "output_type": "stream",
     "text": [
      "foodtalkindia\n",
      "food_lovers6103\n",
      "dilsefoodie\n",
      "food_lunatic\n",
      "delhi_streets_food\n",
      "gurgaonfoodblog\n",
      "food\n",
      "_food_wave_\n",
      "the.food.busters\n",
      "fun2ooshfood\n",
      "delhifoodwalks\n",
      "runaway_foodies\n",
      "caarafood\n",
      "foodxdelhi\n",
      "foodiesdelhite\n",
      "foodiedaakshi\n",
      "foodtalk_chennai\n",
      "food_bunny98\n",
      "riyasfoodjourney\n",
      "mumbaifoodjunkie\n",
      "foodieveggie\n",
      "reneechopra\n",
      "foodiesince96\n",
      "food_nd_nature\n",
      "theclassyfoodophile\n",
      "food_junc\n",
      "indianfoodfreak\n",
      "foodelhi\n",
      "foodie_from_silchar\n",
      "foodcrazer\n",
      "thewickedsoul\n",
      "thegrubjournal\n",
      "foodieebaee\n",
      "food__junction\n",
      "thebangalorefoodharem\n",
      "foodierknaitik\n",
      "foodlover.india\n",
      "foodie.karan\n",
      "foodie_incarnate\n",
      "foodie.akshat\n",
      "karanfoodfanatic\n",
      "delhifoodblogger\n",
      "omo.cafe\n",
      "meghnasfoodmagic\n",
      "kashmirfoodgram\n",
      "bangalore_foodjunkies\n",
      "foodiefromindia\n",
      "food.o.holic\n",
      "foodiee_says\n",
      "foodcomics_\n",
      "youthbitz\n"
     ]
    }
   ],
   "source": [
    "#open in Maxiumum screen \n",
    "\n",
    "def Search(food_name):\n",
    "    sear_bttn = driver.find_element_by_link_text('Search')\n",
    "    sear_bttn.click()\n",
    "    wait = WebDriverWait(driver, 10)\n",
    "    search_input = wait.until(EC.presence_of_element_located((By.XPATH, '//input[contains(@class, \"x1lugfcp x19g9edo x1lq5wgf xgqcy7u x30kzoy x9jhf4c x972fbf xcfux6l x1qhh985 xm0m39n x9f619 x5n08af xl565be x5yr21d x1a2a7pz xyqdw3p x1pi30zi xg8j3zb x1swvt13 x1yc453h xh8yej3 xhtitgo xs3hnx8 x1dbmdqj xoy4bel x7xwk5j\")]')))\n",
    "#     search_input = driver.find_element_by_xpath('//input[contains(@class, \"x1lugfcp x19g9edo x1lq5wgf xgqcy7u x30kzoy x9jhf4c x972fbf xcfux6l x1qhh985 xm0m39n x9f619 x5n08af xl565be x5yr21d x1a2a7pz xyqdw3p x1pi30zi xg8j3zb x1swvt13 x1yc453h xh8yej3 xhtitgo xs3hnx8 x1dbmdqj xoy4bel x7xwk5j\")]')\n",
    "    search_input.clear()\n",
    "    search_input.send_keys(food_name)\n",
    "    search_input.send_keys(Keys.ENTER)\n",
    "    data = wait.until(EC.presence_of_all_elements_located((By.XPATH, '//a[contains(@class, \"x1i10hfl x1qjc9v5 xjbqb8w xjqpnuy xa49m3k xqeqjp1 x2hbi6w x13fuv20 xu3j5b3 x1q0q8m5 x26u7qi x972fbf xcfux6l x1qhh985 xm0m39n x9f619 x1ypdohk xdl72j9 x2lah0s xe8uvvx xdj266r x11i5rnm xat24cr x1mh8g0r x2lwn1j xeuugli xexx8yu x4uap5 x18d9i69 xkhd6sd x1n2onr6 x16tdsg8 x1hl2dhg xggy1nq x1ja2u2z x1t137rt x1q0g3np x87ps6o x1lku1pv x1a2a7pz x1dm5mii x16mil14 xiojian x1yutycm x1lliihq x193iq5w xh8yej3\")]')))\n",
    "#     data = driver.find_elements(By.XPATH, '//a[contains(@class, \"x1i10hfl x1qjc9v5 xjbqb8w xjqpnuy xa49m3k xqeqjp1 x2hbi6w x13fuv20 xu3j5b3 x1q0q8m5 x26u7qi x972fbf xcfux6l x1qhh985 xm0m39n x9f619 x1ypdohk xdl72j9 x2lah0s xe8uvvx xdj266r x11i5rnm xat24cr x1mh8g0r x2lwn1j xeuugli xexx8yu x4uap5 x18d9i69 xkhd6sd x1n2onr6 x16tdsg8 x1hl2dhg xggy1nq x1ja2u2z x1t137rt x1q0g3np x87ps6o x1lku1pv x1a2a7pz x1dm5mii x16mil14 xiojian x1yutycm x1lliihq x193iq5w xh8yej3\")]')\n",
    "    for i in data:\n",
    "#         print(i.text)\n",
    "        if i.text.split()[0][0] != '#':\n",
    "            print(i.text.split()[0])\n",
    "\n",
    "\n",
    "Search('food')"
   ]
  },
  {
   "cell_type": "code",
   "execution_count": 62,
   "id": "de52ad41",
   "metadata": {},
   "outputs": [],
   "source": [
    "driver.back()\n",
    "driver.refresh()"
   ]
  },
  {
   "cell_type": "markdown",
   "id": "5c1158e5",
   "metadata": {},
   "source": [
    "## 3.1 Searching and Opening a profile using : Open profile of “So Delhi”\n"
   ]
  },
  {
   "cell_type": "code",
   "execution_count": 64,
   "id": "bef67273",
   "metadata": {},
   "outputs": [],
   "source": [
    "def searchProfile(profilename):\n",
    "    wait = WebDriverWait(driver, 10)\n",
    "    driver.refresh()\n",
    "    sear_bttn = wait.until(EC.presence_of_element_located((By.LINK_TEXT,'Search')))\n",
    "\n",
    "    sear_bttn.click()\n",
    "    \n",
    "    search_input = wait.until(EC.presence_of_element_located((By.XPATH, '//input[contains(@class, \"x1lugfcp x19g9edo x1lq5wgf xgqcy7u x30kzoy x9jhf4c x972fbf xcfux6l x1qhh985 xm0m39n x9f619 x5n08af xl565be x5yr21d x1a2a7pz xyqdw3p x1pi30zi xg8j3zb x1swvt13 x1yc453h xh8yej3 xhtitgo xs3hnx8 x1dbmdqj xoy4bel x7xwk5j\")]')))\n",
    "\n",
    "    search_input.clear()\n",
    "    search_input.send_keys(profilename)\n",
    "\n",
    "    search_input.send_keys(Keys.ENTER)\n",
    "    \n",
    "    time.sleep(3)\n",
    "    data = wait.until(EC.presence_of_element_located((By.XPATH, '//a[contains(@class, \"x1i10hfl x1qjc9v5 xjbqb8w xjqpnuy xa49m3k xqeqjp1 x2hbi6w x13fuv20 xu3j5b3 x1q0q8m5 x26u7qi x972fbf xcfux6l x1qhh985 xm0m39n x9f619 x1ypdohk xdl72j9 x2lah0s xe8uvvx xdj266r x11i5rnm xat24cr x1mh8g0r x2lwn1j xeuugli xexx8yu x4uap5 x18d9i69 xkhd6sd x1n2onr6 x16tdsg8 x1hl2dhg xggy1nq x1ja2u2z x1t137rt x1q0g3np x87ps6o x1lku1pv x1a2a7pz x1dm5mii x16mil14 xiojian x1yutycm x1lliihq x193iq5w xh8yej3\")]')))\n",
    "    data.click()\n",
    "\n",
    "    "
   ]
  },
  {
   "cell_type": "code",
   "execution_count": 65,
   "id": "67ae22dc",
   "metadata": {},
   "outputs": [],
   "source": [
    "searchProfile('So Delhi')"
   ]
  },
  {
   "cell_type": "code",
   "execution_count": 66,
   "id": "c1bc44e8",
   "metadata": {},
   "outputs": [],
   "source": [
    "driver.back()\n",
    "driver.refresh()"
   ]
  },
  {
   "cell_type": "markdown",
   "id": "e32e2923",
   "metadata": {},
   "source": [
    "## 4.1 Follow/Unfollow given handle - Open the Instagram Handle of “So Delhi”"
   ]
  },
  {
   "cell_type": "code",
   "execution_count": 67,
   "id": "ba4b71ae",
   "metadata": {},
   "outputs": [],
   "source": [
    "searchProfile('So Delhi')"
   ]
  },
  {
   "cell_type": "markdown",
   "id": "66893d16",
   "metadata": {},
   "source": [
    "## 4.2 Follow/Unfollow given handle - Start following it. Print a message if you are already following"
   ]
  },
  {
   "cell_type": "code",
   "execution_count": 68,
   "id": "a0793cf1",
   "metadata": {},
   "outputs": [
    {
     "data": {
      "text/plain": [
       "'So Delhi (@sodelhi) • Instagram photos and videos'"
      ]
     },
     "execution_count": 68,
     "metadata": {},
     "output_type": "execute_result"
    }
   ],
   "source": [
    "driver.title"
   ]
  },
  {
   "cell_type": "code",
   "execution_count": 69,
   "id": "668474cd",
   "metadata": {},
   "outputs": [],
   "source": [
    "def checkfollow():\n",
    "    title = driver.find_element(By.XPATH, '//h2[contains(@class, \"x1lliihq x1plvlek xryxfnj x1n2onr6 x193iq5w xeuugli x1fj9vlw x13faqbe x1vvkbs x1s928wv xhkezso x1gmr53x x1cpjm7i x1fgarty x1943h6x x1i0vuye x1ms8i2q xo1l8bm x5n08af x10wh9bi x1wdrske x8viiok x18hxmgj\")]')\n",
    "    \n",
    "    if title.text == 'sodelhi':\n",
    "#         print(driver.find_element(By.XPATH, '//div[contains (@class, \"_ap3a _aaco _aacw _aad6 _aade\")]').text)\n",
    "        if driver.find_element(By.XPATH, '//div[contains (@class, \"_ap3a _aaco _aacw _aad6 _aade\")]').text == 'Follow':\n",
    "#             print('follow')\n",
    "            follow_bttn = driver.find_element(By.XPATH,'//button[@class=\" _acan _acap _acas _aj1- _ap30\"]')\n",
    "            print('You are not Following So Delhi')            \n",
    "            follow_bttn.click()\n",
    "            print('Now, you have started following So Delhi')\n",
    "\n",
    "        else:\n",
    "#             print('Following')\n",
    "            checkfollowing = driver.find_element(By.XPATH, '//div[@class = \"_ap3a _aaco _aacw _aad6 _aade\"]')\n",
    "            if checkfollowing.text == 'following' or checkfollowing.text == 'Following':\n",
    "                print('You are already following So Delhi')\n",
    "\n",
    "     \n",
    "    "
   ]
  },
  {
   "cell_type": "code",
   "execution_count": 70,
   "id": "43d67322",
   "metadata": {},
   "outputs": [
    {
     "name": "stdout",
     "output_type": "stream",
     "text": [
      "You are already following So Delhi\n"
     ]
    }
   ],
   "source": [
    "checkfollow()"
   ]
  },
  {
   "cell_type": "markdown",
   "id": "a8f90861",
   "metadata": {},
   "source": [
    "## 4.3 Follow/Unfollow given handle - After following, unfollow the instagram handle. Print a message if you have already unfollowed."
   ]
  },
  {
   "cell_type": "code",
   "execution_count": 71,
   "id": "7d4a1dc2",
   "metadata": {},
   "outputs": [],
   "source": [
    "\n",
    "def checkunFollow() :\n",
    "    title = driver.find_element(By.XPATH, '//h2[contains(@class, \"x1lliihq x1plvlek xryxfnj x1n2onr6 x193iq5w xeuugli x1fj9vlw x13faqbe x1vvkbs x1s928wv xhkezso x1gmr53x x1cpjm7i x1fgarty x1943h6x x1i0vuye x1ms8i2q xo1l8bm x5n08af x10wh9bi x1wdrske x8viiok x18hxmgj\")]')\n",
    "    \n",
    "    if title.text == 'sodelhi':\n",
    "#         print(driver.find_element(By.XPATH, '//div[contains (@class, \"_ap3a _aaco _aacw _aad6 _aade\")]').text)\n",
    "        if driver.find_element(By.XPATH, '//div[contains (@class, \"_ap3a _aaco _aacw _aad6 _aade\")]').text == 'Follow':\n",
    "            print('You are not Following So Delhi')            \n",
    "\n",
    "        else:\n",
    "#             print('Following')\n",
    "            checkfollowing = driver.find_element(By.XPATH, '//div[@class = \"_ap3a _aaco _aacw _aad6 _aade\"]')\n",
    "            if checkfollowing.text == 'following' or checkfollowing.text == 'Following':\n",
    "                print('You are already following So Delhi')\n",
    "                unfollowing_bttn = driver.find_element(By.XPATH,'//button[@class=\" _acan _acap _acat _aj1- _ap30\"]')\n",
    "                unfollowing_bttn.click()\n",
    "                \n",
    "                wait = WebDriverWait(driver, 10)\n",
    "                unfollow_btn = wait.until(EC.presence_of_all_elements_located((By.XPATH,'//div[contains (@class, \"x9f619 xjbqb8w x78zum5 x168nmei x13lgxp2 x5pf9jr xo71vjh x1pi30zi x1swvt13 x1l90r2v xyamay9 x1uhb9sk x1plvlek xryxfnj x1c4vz4f x2lah0s xdt5ytf xqjyukv x1qjc9v5 x1oa3qoh x1nhvcw1\")]')))\n",
    "                unfollow_btn[4].click()\n",
    "                print('Now, you have unfollwed So Delhi')\n",
    "    "
   ]
  },
  {
   "cell_type": "code",
   "execution_count": 72,
   "id": "02349cd9",
   "metadata": {},
   "outputs": [
    {
     "name": "stdout",
     "output_type": "stream",
     "text": [
      "You are already following So Delhi\n",
      "Now, you have unfollwed So Delhi\n"
     ]
    }
   ],
   "source": [
    "checkunFollow()"
   ]
  },
  {
   "cell_type": "markdown",
   "id": "69de2e71",
   "metadata": {},
   "source": [
    "## 5.1 Like/Unlike posts - Liking the top 30 posts of the ‘dilsefoodie'. Print message if you have already liked it."
   ]
  },
  {
   "cell_type": "code",
   "execution_count": 118,
   "id": "fee5ddaa",
   "metadata": {},
   "outputs": [],
   "source": [
    "'''import time\n",
    "\n",
    "\n",
    "def scrollInfinity():\n",
    "#     wait = WebDriverWait(driver, 10) # for Future use.\n",
    "    current_height = driver.execute_script('return document.body.scrollHeight;')\n",
    "    while True:\n",
    "        driver.execute_script('window.scrollTo(0, arguments[0]);', current_height)\n",
    "        time.sleep(3)\n",
    "        new_height = driver.execute_script('return document.body.scrollHeight;')\n",
    "        if new_height == current_height:\n",
    "            break\n",
    "        current_height = new_height\n",
    "    \n",
    "'''     \n",
    "    "
   ]
  },
  {
   "cell_type": "code",
   "execution_count": 73,
   "id": "b6ef79d6",
   "metadata": {},
   "outputs": [],
   "source": [
    "searchProfile('dilsefoodie')"
   ]
  },
  {
   "cell_type": "code",
   "execution_count": 74,
   "id": "7a7fdf3c",
   "metadata": {},
   "outputs": [],
   "source": [
    "def like30():\n",
    "#     driver.refresh()\n",
    "    wait = WebDriverWait(driver, 10)\n",
    "    i = 0 \n",
    "    all_posts = []\n",
    "        \n",
    "    try:\n",
    "        while len(all_posts) < 30:\n",
    "            \n",
    "            new_post = wait.until(EC.presence_of_all_elements_located((By.XPATH, '//div[contains(@class, \"_aabd _aa8k  _al3l\")]/a')))\n",
    "\n",
    "            for p in new_post[len(all_posts):]:\n",
    "                p.click()\n",
    "                \n",
    "                time.sleep(2)\n",
    "                \n",
    "                like_button = wait.until(EC.element_to_be_clickable((By.XPATH, '//span[contains(@class, \"_aamw\")]')))\n",
    "                like_button.click()\n",
    "\n",
    "#                 exit_button = wait.until(EC.element_to_be_clickable((By.XPATH, '//div[contains(@class, \"x1i10hfl x6umtig x1b1mbwd xaqea5y xav7gou x9f619 xe8uvvx xdj266r x11i5rnm xat24cr x1mh8g0r x16tdsg8 x1hl2dhg xggy1nq x1a2a7pz x6s0dn4 xjbqb8w x1ejq31n xd10rxx x1sy0etr x17r0tee x1ypdohk x78zum5 xl56j7k x1y1aw1k x1sxyh0 xwib8y2 xurb0ha xcdnw81\")]')))\n",
    "#                 exit_button.click()\n",
    "                driver.back()\n",
    "\n",
    "                i=i+1\n",
    "                print(\"Post\",i,\"liked\")\n",
    "                if i==30:\n",
    "                    break\n",
    "\n",
    "            all_posts = new_post[len(all_posts):] + all_posts\n",
    "            current_height = driver.execute_script('return document.body.scrollHeight;')\n",
    "            driver.execute_script('window.scrollTo(0, arguments[0]);', current_height) \n",
    "        \n",
    "    except Exception as e:\n",
    "        print(e)"
   ]
  },
  {
   "cell_type": "code",
   "execution_count": 75,
   "id": "b19b50fb",
   "metadata": {
    "scrolled": true
   },
   "outputs": [
    {
     "name": "stdout",
     "output_type": "stream",
     "text": [
      "Post 1 liked\n",
      "Post 2 liked\n",
      "Post 3 liked\n",
      "Post 4 liked\n",
      "Post 5 liked\n",
      "Post 6 liked\n",
      "Post 7 liked\n",
      "Post 8 liked\n",
      "Post 9 liked\n",
      "Post 10 liked\n",
      "Post 11 liked\n",
      "Post 12 liked\n",
      "Post 13 liked\n",
      "Post 14 liked\n",
      "Post 15 liked\n",
      "Post 16 liked\n",
      "Post 17 liked\n",
      "Post 18 liked\n",
      "Post 19 liked\n",
      "Post 20 liked\n",
      "Post 21 liked\n",
      "Post 22 liked\n",
      "Post 23 liked\n",
      "Post 24 liked\n",
      "Post 25 liked\n",
      "Post 26 liked\n",
      "Post 27 liked\n",
      "Post 28 liked\n",
      "Post 29 liked\n",
      "Post 30 liked\n"
     ]
    }
   ],
   "source": [
    "like30()"
   ]
  },
  {
   "cell_type": "code",
   "execution_count": 76,
   "id": "462c20d3",
   "metadata": {},
   "outputs": [],
   "source": [
    "def unlike30():\n",
    "    wait = WebDriverWait(driver, 10)\n",
    "    i = 0 \n",
    "    all_posts = []\n",
    "        \n",
    "    try:\n",
    "        while len(all_posts) < 30:\n",
    "            \n",
    "            new_post = wait.until(EC.presence_of_all_elements_located((By.XPATH, '//div[contains(@class, \"_aabd _aa8k  _al3l\")]/a')))\n",
    "\n",
    "            for p in new_post[len(all_posts):]:\n",
    "                p.click()\n",
    "                \n",
    "                time.sleep(2)\n",
    "                \n",
    "                like_button = wait.until(EC.element_to_be_clickable((By.XPATH, '//span[contains(@class, \"_aamw\")]')))\n",
    "                like_button.click()\n",
    "\n",
    "#                 exit_button = wait.until(EC.element_to_be_clickable((By.XPATH, '//div[contains(@class, \"x1i10hfl x6umtig x1b1mbwd xaqea5y xav7gou x9f619 xe8uvvx xdj266r x11i5rnm xat24cr x1mh8g0r x16tdsg8 x1hl2dhg xggy1nq x1a2a7pz x6s0dn4 xjbqb8w x1ejq31n xd10rxx x1sy0etr x17r0tee x1ypdohk x78zum5 xl56j7k x1y1aw1k x1sxyh0 xwib8y2 xurb0ha xcdnw81\")]')))\n",
    "#                 exit_button.click()\n",
    "                driver.back()\n",
    "\n",
    "                i=i+1\n",
    "                print(\"Post\",i,\"unliked\")\n",
    "                if i==30:\n",
    "                    break\n",
    "\n",
    "            all_posts = new_post[len(all_posts):] + all_posts\n",
    "            current_height = driver.execute_script('return document.body.scrollHeight;')\n",
    "            driver.execute_script('window.scrollTo(0, arguments[0]);', current_height) \n",
    "        \n",
    "    except Exception as e:\n",
    "        print(e)"
   ]
  },
  {
   "cell_type": "code",
   "execution_count": 77,
   "id": "4a4c0c04",
   "metadata": {},
   "outputs": [
    {
     "name": "stdout",
     "output_type": "stream",
     "text": [
      "Post 1 unliked\n",
      "Post 2 unliked\n",
      "Post 3 unliked\n",
      "Post 4 unliked\n",
      "Post 5 unliked\n",
      "Post 6 unliked\n",
      "Post 7 unliked\n",
      "Post 8 unliked\n",
      "Post 9 unliked\n",
      "Post 10 unliked\n",
      "Post 11 unliked\n",
      "Post 12 unliked\n",
      "Post 13 unliked\n",
      "Post 14 unliked\n",
      "Post 15 unliked\n",
      "Post 16 unliked\n",
      "Post 17 unliked\n",
      "Post 18 unliked\n",
      "Post 19 unliked\n",
      "Post 20 unliked\n",
      "Post 21 unliked\n",
      "Post 22 unliked\n",
      "Post 23 unliked\n",
      "Post 24 unliked\n",
      "Post 25 unliked\n",
      "Post 26 unliked\n",
      "Post 27 unliked\n",
      "Post 28 unliked\n",
      "Post 29 unliked\n",
      "Post 30 unliked\n"
     ]
    }
   ],
   "source": [
    "unlike30()"
   ]
  },
  {
   "cell_type": "markdown",
   "id": "cc8268da",
   "metadata": {},
   "source": [
    "## 6.1: Extract list of followers - Extract the usernames of the first 500 followers of ‘foodtalkindia’ and ‘sodelhi’"
   ]
  },
  {
   "cell_type": "code",
   "execution_count": 78,
   "id": "cf1ddd39",
   "metadata": {},
   "outputs": [],
   "source": [
    "driver.back()\n",
    "driver.refresh()"
   ]
  },
  {
   "cell_type": "code",
   "execution_count": 85,
   "id": "d4ef5c7f",
   "metadata": {},
   "outputs": [],
   "source": [
    "# Only foodtalkindia can see all followers. It's shoing Notification when followers options is opened\n",
    "def get_username(profile):\n",
    "    searchProfile(profile)\n",
    "    time.sleep(4)\n",
    "    wait = WebDriverWait(driver, 10)\n",
    "    \n",
    "    link = wait.until(EC.presence_of_element_located((By.XPATH, '//ul[contains(@class, \"x78zum5 x1q0g3np xieb3on\")]/li[2]')))\n",
    "    time.sleep(3)\n",
    "    link.click()\n",
    "    \n",
    "    titles = wait.until(EC.presence_of_all_elements_located((By.XPATH, '//span[@class = \"_ap3a _aaco _aacw _aacx _aad7 _aade\"]')))\n",
    "    \n",
    "    for title in titles:\n",
    "        print(title.text)\n",
    "    \n",
    "    "
   ]
  },
  {
   "cell_type": "code",
   "execution_count": 86,
   "id": "f4439fb9",
   "metadata": {},
   "outputs": [
    {
     "name": "stdout",
     "output_type": "stream",
     "text": [
      "aaryamanarora\n",
      "worldrecipes4me\n",
      "babji.232007\n",
      "what_is_availabele_\n",
      "kuldeep_7689_\n",
      "ankit8936\n",
      "ankstgram\n",
      "ayushi_rajput11\n",
      "beyberyy\n",
      "bharadwaj.india\n",
      "blahvika\n",
      "bowl2soul\n",
      "curatedcirclesbyme\n",
      "daminidatta\n",
      "dineshjain77\n",
      "kharetiyas\n",
      "drmayshagupta2020\n",
      "emy_yummmy\n",
      "foodievarun\n",
      "hashme666\n",
      "horecahire\n",
      "iamfoodie226\n",
      "israel25kitchent\n",
      "_jpragash_\n",
      "real.kuldip\n",
      "lokeshkumarmotiyani\n",
      "malagoesgreen\n",
      "jindal.mohit\n",
      "mr_k_e_r_k_e_t_t_a___\n",
      "gopisetti_neelesh\n",
      "_easy_recipes_by_nirali\n",
      "rusty_bucket.24\n",
      "raghavjoshi58\n",
      "rajurajputsukhlal\n",
      "ram_avinash\n",
      "rampatil_18\n",
      "satsonseldercare\n",
      "sayalibagul3\n",
      "wanderlust_shakti\n",
      "_._shreeyaa__\n",
      "siddhi_t24\n",
      "100_nu_prajapat\n",
      "usman.khan0984\n",
      "wishace007\n",
      "volarebakehouse\n",
      "yogi_.g\n",
      "delhiaffair\n",
      "_yudi._\n",
      "wovi_monica\n",
      "kaku_tomari_tsuyoshi\n"
     ]
    }
   ],
   "source": [
    "get_username('foodtalkindia') # only limited followers are allowed to see other can only watch by foodtalkindia only"
   ]
  },
  {
   "cell_type": "code",
   "execution_count": 87,
   "id": "f071e2fc",
   "metadata": {},
   "outputs": [],
   "source": [
    "def get_followers(username, num_followers=500):\n",
    "    searchProfile(username)\n",
    "    time.sleep(3)\n",
    "    followers_button = WebDriverWait(driver, 10).until(\n",
    "        EC.presence_of_element_located((By.XPATH, '//ul[contains(@class, \"x78zum5 x1q0g3np xieb3on\")]/li[2]')))\n",
    "    followers_button.click()\n",
    "    time.sleep(2)\n",
    "\n",
    "    followers_list = WebDriverWait(driver,4).until(EC.presence_of_element_located((By.XPATH, '//div[contains(@class, \"_aano\")]')))\n",
    "    \n",
    "    # scroll till follower list.\n",
    "    followers_count = 0\n",
    "    li = {}\n",
    "    while followers_count < num_followers:\n",
    "        span_list = WebDriverWait(driver,4).until(EC.presence_of_all_elements_located((By.XPATH, '//span[@class = \"_ap3a _aaco _aacw _aacx _aad7 _aade\"]')))\n",
    "        \n",
    "        for i in span_list:\n",
    "            if i.text not in li:\n",
    "                li[i.text] = 1\n",
    "                followers_count += 1\n",
    "        driver.execute_script('arguments[0].scrollTop = arguments[0].scrollTop + arguments[0].offsetHeight', followers_list)\n",
    "        time.sleep(2)\n",
    "        \n",
    "        \n",
    "    return li.keys()\n"
   ]
  },
  {
   "cell_type": "code",
   "execution_count": 88,
   "id": "233650e3",
   "metadata": {},
   "outputs": [
    {
     "data": {
      "text/plain": [
       "dict_keys(['ratan.singh0811', 'vibhamishra964', 'santosh_payal1993', 'yourr.tushar', 'loony_lu_lu', 'shagun_sg', 'rashi._.0925', 'neeraj_njy_', 'somya.patell', 'alwayshashwat', 'why.khushii19', 'roopali4s', 'swastika4u', 's.u.r.i.n.d.e.r_k.a.u.r', 'beingmansicurrently', 'jain16harshit', 'dhruvattri08', 'bhavvyyyyyy', 'jaanvipvtt__', 'nandinichaurasia14', 'reeyamajhi7', 'triptijain_712', 'xaditiixx', '__rishitaa__114', 'makeuplogy_bysimran', 'saumyatyagi10', 'shreedhara_greens', 'wonder_ring_notlost', 'maheshkardam', 'aroraa_chahat', 'horizn_architect_studio', 'fai.sal4507', 'deepamittal14', 'dv_associates', 'henukumar', 'about_endlessmess_96', 'giteshdiaries', 'lyza.live', 'teenasahu245', 'rajdeepsejpal', 'ishhu918', 'chetali16', 'mumukshanarwal', 'dusaadhh', 'arvinddhanapalan', 'bookmarked2023', 'divinefbdelhi', 'ambujkidiary', 'kartikhare', 'cheta06', 'the_great_vik', 'cloudcand.yy', 'jatin__kalra', 'vijaya_khanna', 'gaurrisharmaa', 'sonakshi00755', 'ritika_diwakar1212', 'jojournall', 'krrishchhabra_', 'rheashettyy', 'alpa1016', 'lohitha.sakku', 'aayush_singhh_', '__s_a_a_n_', 'rahulahlawat385', 'yandouhqipao', '_.shreyasiiii._', 'bansall_nishu', 'pawni_srivastava_07', 'munching_thewangalaway', 'supersaumya', 'manjulmishra1529', 'rkk9923', 'dr_a.s.h', 'looplove.by.rado', 'ram.eshchandr', 'vipin_raj_gautam71', 'osaa_ki', 'x.mayank_', 'kchabruh', 'strings2957', 'btwitz_zaram', 'kukkvx', 'vaidehi_awanaa._', 'aaquibchhipa', 'yogesh.bhatia777', 'delhi.adventures', 'gpal4469', '__akkshayy', 'iam_rudraksh.r', 'riddhieve', 'praneethchoudary', 'siya__0777', 'just.oneview', 'triptii.garg', 'sangeetadevsi', 'vilencore', 'princejat___', 'kart.ikay04', 'shokeen_u', 's_mavi06', 'k.ankit7', 'sexservicedelhiii', 'yasshwhoo', 'bandanapal19', 'vibhor_libra', 'richa__choudhary_', 'hahaharsimran', 'abhinav.yadav19', 'harshitt1__', 'shubham.sr4', 'mani_bansal71', 'satinderpalsinghmarwah', 'balaganesh_m', 'mrkumarvaibhav', 'dr.aparnavadlamudi', '__shezna.pk__', '_.anonymous.7._', 'dr_anmol_saxena', 'i_x_su', 'bkshikhagupta', 'pragiyat', '_saksham_singhal_', 'clayjensen0007', 'atulsingh_as_', 'g.m.jee', 'puru.gaur07', 'princesarswat09', 'rakshitajoshi27', 'thenewdelhicity', 'mayulmanav', 'bakchod_memer232444', 'rohan.tandon1', 'dipayan83', 'ipsi_12', 'hippiee7', 'samyafatimajafri', 'kfor_coaching', 'shivaniverma1718', 'juhiandcallum_wedding', 'cookiee_app', 'kiran.lohiya', 'lamiau_', 'abdinho_toxic', 'a.z.m.i_____', 'aman.v30', 'aaro.praanam', 'poojaarora4148', 'allthingsnice7_', 'khanzayna_21', 'loquesientoissureal', 'sharrma1123', 'mittal_saumya_', 'yogya.s10', 'abhaykarann', 'nikisharma431', 'vixooxiv', 'wayydehi', 'momysgirldivi', 'veerranvijaypratapsingh', 'flurriesandblizzards', 'anisha.chauhan', 'rohitttz_09_09', '_sanskriti.30', 'dush_27', 'amnsh8', 'isha.gupta.75', 'tushar12_100', 'chinnuspriv', 'ayushgarg_6081', '_awaraprani_', 'sanya_308', 'mukul_jindall', 'ham.ariel_', 'harrbbikkk', 'its_nick_3782', 'creative_crescendo', 'paankiwimint_', 'yash.mishra219', 'bittoovashist', 'kunal_surana05', 'vrindavanwaasiofficial', 'praaagyaaa.__', 'pithy_ponderings_', 'its_gauravmishra23', 'dishasinghal__', 'mohdnabeelqureshiii', 'zqklz', 'annuragbatra', 'cheerupwithimran', 'archana.khatri.76', 'meranaamarchit', 'anxxp_kumar', 'pallavi.m.pahwa', 'rohitkumar25210', 'decore_home_with_your_texture', 'basanagouda_hadimani', 'hannniiaaaa', 'catl.ovesme', 'dianaj412', 'nitusharma2612', 'dhruv.sharma27', 'lakshay_tytlerian', 'blitheinkwater', 'preevaish', 'shagun___singh', 'vaishali7592', 'kavykaushik', 'aakash_0496', 'palavibehl', 'arathy.______.k', 'aditishukla_0i', 'peter.bose', 'ira_by_namita', 'yours.aalakala', 'mukti_sharma16', 'vwishh_meraki', 'ezhilvanan_g', 'akshitaaaa_p', 'shauryamittal2', 'priyankca.narula', '_vaswani_soniya', 'maannnxd', 'being_richdave', 'ankitverma.8', 'shweta.makkar29', 'mainly.kuldeep', 'sakshi_shandily', 'alizeh_071', 'artist_91____', 'roshanv619', '_nothing.here7', 'khushi.r142', 'a.telugu.girl', 'always_believe_in_yourself_25', 'unknownhooper7', 'sunda.ayushi', 'rahul1313k', 'riyariy19', '_anas.sid', 'davindersharma76', 'mr__saheb___786', 'sarvagya28_', 'yatiikaa_', 'sukhleen_1021', 'parikshit_ng', 'gee_paary', 's_sahil25', 'priya.darshini_14', 'priyakhurana2310', 'neeti.kanungo', 'taronaggarwal', 'vedanta_10', '_malvika_mishra', 'arjun14__', 'rudhraksh.villa.mussoorie', 'dudu.bubu.2021', 'rahu.lvarma4075', '7433p.ooja', 'dillisedil', 'frames.sumit', 'gwlpdoodle', 'love_a_gainn_', 'ragul_ov', 'nupur309', 'pagal_musaafir', 'dev_soura', '_.shiiivuuu._', 'alihan_ali2916', '_sahil._778', 'vansschrute', 'ishi___.015', 'ajaykumar6807', 'mn_jlithakur84', 'shikha.sharma_g', 'life_of_irfan__', 'young______thug____', 'frullato_hudson', 'manish._.kumar1', 'sidanand07', 'gautamaggarwal30', '_himanichaurasia_', 'ishitag4', 'idiyaanand', 'coolami30', 'vydehii_s', 'anshita0914', 'anjalipd_', '_m_a_d_d_y__143', 'shradha_mehra__', 'vishalka619', 'appannasettybaratam', 'kota_thecityofdreams', 'riddhi_jadeja__', 'kirthikakumari', 'khushshshhhi', 'panushwari', '__.harman_._', 'amrita_sawhney1994', 'sabaiyasaibsaibe', 'drprernaguptaivf', 'itzanshi18.14', 'nitinhajela', 'call.me_sanj_', 'anugrah_singhx', 'anjalittis', 'd_khan54', 'roopam5121', 'ujjwalchatkara', 'ohlocal.official', 'chinmayeeshuklaofficial', 'anthropologist_on_the_run', 'pankazbhardw.21', 'arey.yaar.someone', 'sanruceri', 'darshan.ganapathyy', 'chahak108', 'yadav_daan', 'shreyaananddd', 'vayeda_seth', '__scrapper', 'yuktaxi', 'jat._.in224', 'singhabhi549', 'amitvikramsingh0999', 'tanishka.jain6', 'anita_kusum_', 'agape_lovetogether', 'stoicagnost_writes', 'apar.beyond.the.limits', 'selcouth_phosphenes', 'priyanka_tada', 'nandini234', 'yoursky_999', 'preetti_', 'pushpdeeppp', '_.anand_saini._', 'tabmaxrex', 'barbaad_raaja', 'kanikaagarwal.0303', 'gowreeshnama', 'jigyasamittal7', 'admiredelhi', 'ajit2nair', 'nikhilambre', '_.aadi.mathur._', 'saksham_6681', 'wtf.gunnn', 'dikhra_khan', 'horecahire', 'ashna2210', 'dr.lalit_5254', 'shri_radharani_temple', 'mayankverma.in', 'kumar.suhani', 'amitdua.insta', 'sanyamadan_20', 'prathit.maini', 'jjk_4everr_', '_ayushi_377', 'saga.travellers', 'chander_bharwani', 'kevin_kart08', 'mansha_yadav60', '_muskangandhi_', 'mansi_____kumari', 'aedus_p', 'harjee4883', 'iamrohan_7_', 'mr_illicit_affairs', 'super.lucifer', 'minal536', '_vivek_jindal_', 'sunitjain2022', 'neat_franco', 'itz_team_india_77', 'i_saksham5', 'tokasisha', 'itsamit__official', 'eng_mody10', 'swassti.prakash', 'ongdhin', 'thalibsharaf', 'notorious_rk11', 'pooj_bhatia', 'somyaajain_', 'that_mole_girl22', 'oii.negi', 'ganapathivasudevan', 'yashiee.pvt', 'shevangi_', 'tarungupta1660', 'malotsudeep', 'aastha_085', 'aslam_raihan', 'sanju541e', 'tanveersaifi', 'saimeen4477', '_.twinkle____', 'aditya__k3', 'pre.un.cah', 'ppahnawa', 'saihaj.__', '_vickysingh____', 'ankitsingla_3001', 'the_enigmatic_lumiere', 'shaye._vs', 'cryptic_vidhi', 'maroonscommune', 'pratikshamalla', 'satsonseldercare', 'sohaib_akhtarrr', 'divyafoods2020', 'saba.saiyed15', 'aashiii_2908', 'charu.goyal227', 'kaul.iflower', 'mtokasofficial', 'itanagar.diary', 'rabinn.s', 'phaniswari_ramineni', 'adityahere_', 'priyadarshisam1', 'aqib.saifi', 'umangerek', 'ashish_tayal1210', 'gursidhuu4', 'shrm54547', 'mukulbajaj6', 'manish.kumar.96742', 'pooja.navita', 'harshitachauhan469', 'omkar05_official_', 'gurdeepsbasra', 'cha.hat2607', 'belarastogi1', 'jyotsana_19', 'sureshsaini4846', 'svikramjits', 'sanidhyayaya', 'akshitaa_021', '_aastha.9551', 'siddharth.anand', 'isha_nagpal28', 'bijanmukherjee05', 'navya1698', '__dark_sunshine_012', 'volarebakehouse', 'varun.a.s', 'beard.baba1.2', '1mysa_cafe', 'deenahpanchal', 'ek_ehsaa__', 'nidasma', 'just_once_08', 'rishu.sharma14', '_akash1023_', 'pky.hrd', 'rajesh.s1ngh', '_notvanshchhabra_', 'ushreebanerjee', 'tandoorebawarchi', 'ashmua07', 'lokesh.iyer', 'hiteshkumar42', 'shazan_hashmi', '__divbtw_09', 'its_me_jaipahuja', 'shrutsmehrotra', 'rachit.tripathi.75', 'manchanda.rekha024', 'shristi_iiiiii', 'akshat85', 'nancy_kchadha', 'vineetwahi058', 'srishti_from_my_drishti', 'akbarakhtar', 'aparna_dwivedi', 'varsharitu14', 'sher.jatt6', 'bhagwan.god.ishwar', 'samikhyaaaa', 'adil_saify_', 'powerpresencewarmth', 'ajaykumarsharma4949', '_diwakar_chauhan_', 'nandinipalat', 'rabaniraori', 'morocks18', '_psychic_nerd', 's.xmiksha', 'isha.shukla31', 'thevarun_99', 'aman_akshat', 'dganeshe', 'riyaaaaaaa_gupta_', 'hasinabibi8115', '_tomarpit_', 'tushar67_0', 'manik73077', 'deepshikha_kohar', 'thecherrytree_cafe', 'sejalbansal05', 'xhmed._.riyaz', 'varshha7', 'rt955070', 'pop_a._', 'bahraingf', 'beautybeat_p', 'ashish2379gupta'])"
      ]
     },
     "execution_count": 88,
     "metadata": {},
     "output_type": "execute_result"
    }
   ],
   "source": [
    "get_followers('sodelhi')"
   ]
  },
  {
   "cell_type": "code",
   "execution_count": 89,
   "id": "5320a60e",
   "metadata": {},
   "outputs": [],
   "source": [
    "driver.back()"
   ]
  },
  {
   "cell_type": "markdown",
   "id": "53814070",
   "metadata": {},
   "source": [
    "## 6.2. Printing all the followers of “foodtalkindia” that I am following but those who don’t follow me."
   ]
  },
  {
   "cell_type": "code",
   "execution_count": 92,
   "id": "72ff2422",
   "metadata": {},
   "outputs": [],
   "source": [
    "def checkFollowers() :\n",
    "\n",
    "    user_following = {}\n",
    "    home_link = WebDriverWait(driver, 5).until(EC.presence_of_element_located((By.XPATH, '//span[contains(@class, \"x4k7w5x x1h91t0o x1h9r5lt x1jfb8zj xv2umb2 x1beo9mf xaigb6o x12ejxvf x3igimt xarpa2k xedcshv x1lytzrv x1t2pt76 x7ja8zs x1qrby5j\")]')))\n",
    "#     print(home_link)\n",
    "    home_link.click()\n",
    "    time.sleep(2)\n",
    "    \n",
    "    user_profile_link = WebDriverWait(driver, 4).until(EC.presence_of_element_located((By.XPATH, '//div[@class = \"x9f619 xjbqb8w x78zum5 x168nmei x13lgxp2 x5pf9jr xo71vjh xw3qccf x1uhb9sk x1plvlek xryxfnj x1c4vz4f x2lah0s xdt5ytf xqjyukv x1qjc9v5 x1oa3qoh x1nhvcw1\"]')))\n",
    "    user_profile_link.click()\n",
    "    \n",
    "    user_follwng_bttn = WebDriverWait(driver, 4).until(EC.presence_of_element_located((By.XPATH, '//ul[@class = \"x78zum5 x1q0g3np xieb3on\"]/li[3]')))\n",
    "    user_follwng_bttn.click()\n",
    "    \n",
    "    followers_list = WebDriverWait(driver,4).until(EC.presence_of_element_located((By.XPATH, '//div[contains(@class, \"_aano\")]/div')))\n",
    "    \n",
    "    \n",
    "    # scroll till user follower list.\n",
    "    followers_count = 0\n",
    "    li = {}\n",
    "    while True:\n",
    "        try:\n",
    "            span_list = WebDriverWait(driver,4).until(EC.presence_of_all_elements_located((By.XPATH, '//span[@class = \"_ap3a _aaco _aacw _aacx _aad7 _aade\"]')))\n",
    "\n",
    "            for i in span_list:\n",
    "                if i.text not in li:\n",
    "                    li[i.text] = 1\n",
    "                    followers_count += 1\n",
    "#                     print(i.text)\n",
    "            time.sleep(2)\n",
    "            driver.execute_script('arguments[0].scrollTop = arguments[0].scrollTop + arguments[0].offsetHeight', followers_list)\n",
    "            time.sleep(2)\n",
    "        except StaleElementReferenceException:\n",
    "            break\n",
    "    \n",
    "    # for the foodtalkindia account\n",
    "    driver.back()\n",
    "    searchProfile('foodtalkindia') # We can see limited user and only foodtalkindia can see all followers.\n",
    "    time.sleep(5)\n",
    "    search_bar = WebDriverWait(driver, 4).until(EC.presence_of_element_located((By.XPATH, '//div[contains(@class, \"x1iyjqo2 xh8yej3\")]/div[2]')))\n",
    "    search_bar.click()\n",
    "    time.sleep(2)\n",
    "    \n",
    "    profile_follwng_bttn = WebDriverWait(driver, 4).until(EC.presence_of_element_located((By.XPATH, '//ul[@class = \"x78zum5 x1q0g3np xieb3on\"]/li[2]')))\n",
    "    profile_follwng_bttn.click()\n",
    "    time.sleep(2)\n",
    "    profile_titles = WebDriverWait(driver, 4).until(EC.presence_of_all_elements_located((By.XPATH, '//span[@class = \"_ap3a _aaco _aacw _aacx _aad7 _aade\"]')))\n",
    "    \n",
    "    for title in profile_titles:\n",
    "        if title.text in li:\n",
    "            print(title.text)\n",
    "        "
   ]
  },
  {
   "cell_type": "code",
   "execution_count": 93,
   "id": "4e42f335",
   "metadata": {},
   "outputs": [
    {
     "name": "stdout",
     "output_type": "stream",
     "text": [
      "volarebakehouse\n"
     ]
    }
   ],
   "source": [
    "checkFollowers()"
   ]
  },
  {
   "cell_type": "code",
   "execution_count": null,
   "id": "10eadceb",
   "metadata": {},
   "outputs": [],
   "source": []
  }
 ],
 "metadata": {
  "kernelspec": {
   "display_name": "Python 3 (ipykernel)",
   "language": "python",
   "name": "python3"
  },
  "language_info": {
   "codemirror_mode": {
    "name": "ipython",
    "version": 3
   },
   "file_extension": ".py",
   "mimetype": "text/x-python",
   "name": "python",
   "nbconvert_exporter": "python",
   "pygments_lexer": "ipython3",
   "version": "3.11.5"
  }
 },
 "nbformat": 4,
 "nbformat_minor": 5
}
